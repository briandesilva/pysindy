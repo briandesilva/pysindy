{
 "cells": [
  {
   "cell_type": "code",
   "execution_count": 2,
   "id": "initial_id",
   "metadata": {
    "collapsed": true,
    "ExecuteTime": {
     "end_time": "2023-10-13T18:38:34.956304Z",
     "start_time": "2023-10-13T18:38:33.452647Z"
    }
   },
   "outputs": [
    {
     "name": "stdout",
     "output_type": "stream",
     "text": [
      "....importing local pysindy copy....\n"
     ]
    }
   ],
   "source": [
    "import pysindy"
   ]
  },
  {
   "cell_type": "code",
   "execution_count": 7,
   "outputs": [],
   "source": [
    "    # import numpy as np\n",
    "    # from scipy.integrate import odeint\n",
    "    # from pysindy import SINDy\n",
    "    # from pysindy.optimizers import STLSQ\n",
    "    # lorenz = lambda z,t : [10*(z[1] - z[0]),\n",
    "    #                         z[0]*(28 - z[2]) - z[1],\n",
    "    #                         z[0]*z[1] - 8/3*z[2]]\n",
    "    # t = np.arange(0,2,.002)\n",
    "    # x = odeint(lorenz, [-8,8,27], t)\n",
    "    # opt = STLSQ(threshold=0.1, alpha=.5)\n",
    "    # model = SINDy(optimizer=opt)\n",
    "    # model.fit(x, t=t[1]-t[0])\n",
    "    # model.print()"
   ],
   "metadata": {
    "collapsed": false,
    "ExecuteTime": {
     "end_time": "2023-10-20T01:27:45.906118Z",
     "start_time": "2023-10-20T01:27:45.904726Z"
    }
   },
   "id": "e7b4166dccf84db6"
  },
  {
   "cell_type": "code",
   "execution_count": 3,
   "outputs": [
    {
     "name": "stdout",
     "output_type": "stream",
     "text": [
      "STLSQ optimizer....\n",
      "(x0)' = -10.000 x0 + 10.000 x1\n",
      "(x1)' = 27.994 x0 + -0.999 x1 + -1.000 x0 x2\n",
      "(x2)' = -2.666 x2 + 1.000 x0 x1\n",
      " adam-STLSQ optimizer....\n",
      "(x0)' = -10.000 x0 + 10.000 x1\n",
      "(x1)' = 27.994 x0 + -0.999 x1 + -1.000 x0 x2\n",
      "(x2)' = -2.666 x2 + 1.000 x0 x1\n"
     ]
    }
   ],
   "source": [
    "import sys\n",
    "sys.path.insert(0,\"/Users/manujayadharan/git_repos/pysindy\")\n",
    "\n",
    "\n",
    "\n",
    "import pysindy\n",
    "import numpy as np\n",
    "from scipy.integrate import odeint\n",
    "from pysindy import SINDy\n",
    "from pysindy.optimizers import STLSQ\n",
    "lorenz = lambda z,t : [10*(z[1] - z[0]),\n",
    "                        z[0]*(28 - z[2]) - z[1],\n",
    "                        z[0]*z[1] - 8/3*z[2]]\n",
    "t = np.arange(0,2,.002)\n",
    "x = odeint(lorenz, [-8,8,27], t)\n",
    "opt = STLSQ(threshold=0.1, alpha=.5)\n",
    "model = SINDy(optimizer=opt)\n",
    "model.fit(x, t=t[1]-t[0])\n",
    "print(\"STLSQ optimizer....\")\n",
    "model.print()\n",
    "\n",
    "\n",
    "import pysindy as ps\n",
    "opt_adam = ps.optimizers.adam_STLSQ(threshold=0.1, alpha=.5, mom_init_iter=1, use_mom=True, mom_inplace=True,)\n",
    "model_2 = SINDy(opt_adam)\n",
    "model_2.fit(x, t=t[1]-t[0])\n",
    "print(\" adam-STLSQ optimizer....\")\n",
    "\n",
    "model_2.print()"
   ],
   "metadata": {
    "collapsed": false,
    "ExecuteTime": {
     "end_time": "2023-10-20T01:28:40.552749Z",
     "start_time": "2023-10-20T01:28:40.533069Z"
    }
   },
   "id": "1706bddac860fa30"
  },
  {
   "cell_type": "code",
   "execution_count": 10,
   "outputs": [],
   "source": [
    "mom_history = np.array(np.array(opt_adam.mom_history))\n",
    "opt_history  = np.array(opt_adam.history_)"
   ],
   "metadata": {
    "collapsed": false,
    "ExecuteTime": {
     "end_time": "2023-10-20T01:31:59.987109Z",
     "start_time": "2023-10-20T01:31:59.980771Z"
    }
   },
   "id": "43665c0da4853799"
  },
  {
   "cell_type": "code",
   "execution_count": null,
   "outputs": [],
   "source": [],
   "metadata": {
    "collapsed": false
   },
   "id": "ed372d5da0a5f2ac"
  },
  {
   "cell_type": "code",
   "execution_count": 8,
   "outputs": [
    {
     "data": {
      "text/plain": "[array([[-9.64895569e-03, -1.00046478e+01,  1.00038374e+01,\n          7.65369398e-04, -3.15852085e-05, -2.93120448e-05,\n          1.73525249e-04, -4.87091503e-05, -1.05165499e-04,\n         -1.60698340e-05],\n        [ 2.26880766e-02,  2.79944495e+01, -9.93575835e-01,\n         -3.40276264e-03,  3.26828868e-06,  1.06618345e-03,\n         -1.00014295e+00, -6.94384821e-04, -1.22218320e-04,\n          1.35248892e-04],\n        [-8.19281886e-02, -7.79668615e-03,  1.14104022e-02,\n         -2.65831213e+00,  6.78705151e-04,  1.00008079e+00,\n          2.77464075e-04, -3.19445037e-04, -5.14789205e-04,\n         -2.08940175e-04]]),\n array([[ 0.46869307, -9.8721118 ,  9.90979673,  0.        ,  0.        ,\n          0.        ,  0.        ,  0.        ,  0.        ,  0.        ],\n        [-0.73346001, 27.75645584, -0.85066121,  0.        ,  0.        ,\n          0.        , -0.99301664,  0.        ,  0.        ,  0.        ],\n        [-0.13395441,  0.        ,  0.        , -2.65169018,  0.        ,\n          0.99991132,  0.        ,  0.        ,  0.        ,  0.        ]]),\n array([[ 0.        , -9.99927692,  9.99899463,  0.        ,  0.        ,\n          0.        ,  0.        ,  0.        ,  0.        ,  0.        ],\n        [ 0.        , 27.9812197 , -0.99643931,  0.        ,  0.        ,\n          0.        , -0.99953274,  0.        ,  0.        ,  0.        ],\n        [ 0.        ,  0.        ,  0.        , -2.66654099,  0.        ,\n          0.99990241,  0.        ,  0.        ,  0.        ,  0.        ]]),\n array([[ 0.        , -9.99909897,  9.9991162 ,  0.        ,  0.        ,\n          0.        ,  0.        ,  0.        ,  0.        ,  0.        ],\n        [ 0.        , 27.9838541 , -0.99634161,  0.        ,  0.        ,\n          0.        , -0.99958066,  0.        ,  0.        ,  0.        ],\n        [ 0.        ,  0.        ,  0.        , -2.66645487,  0.        ,\n          0.9999017 ,  0.        ,  0.        ,  0.        ,  0.        ]])]"
     },
     "execution_count": 8,
     "metadata": {},
     "output_type": "execute_result"
    }
   ],
   "source": [
    "opt_adam.history_"
   ],
   "metadata": {
    "collapsed": false,
    "ExecuteTime": {
     "end_time": "2023-10-20T01:29:36.729660Z",
     "start_time": "2023-10-20T01:29:36.718891Z"
    }
   },
   "id": "c56de708a37deace"
  },
  {
   "cell_type": "code",
   "execution_count": 12,
   "outputs": [
    {
     "data": {
      "text/plain": "3"
     },
     "execution_count": 12,
     "metadata": {},
     "output_type": "execute_result"
    }
   ],
   "source": [
    "len(mom_history)"
   ],
   "metadata": {
    "collapsed": false,
    "ExecuteTime": {
     "end_time": "2023-10-20T01:39:09.144149Z",
     "start_time": "2023-10-20T01:39:09.135212Z"
    }
   },
   "id": "a322c0fc92a86c35"
  },
  {
   "cell_type": "code",
   "execution_count": 14,
   "outputs": [],
   "source": [
    "mom_arr = opt_history[1]"
   ],
   "metadata": {
    "collapsed": false,
    "ExecuteTime": {
     "end_time": "2023-10-20T01:41:11.667790Z",
     "start_time": "2023-10-20T01:41:11.658454Z"
    }
   },
   "id": "d79ddccf9ff6bc66"
  },
  {
   "cell_type": "code",
   "execution_count": 15,
   "outputs": [
    {
     "name": "stdout",
     "output_type": "stream",
     "text": [
      "[[ 0.42182376 -9.88482832  9.91871652  0.          0.          0.\n",
      "   0.          0.          0.          0.        ]\n",
      " [-0.66011401 27.77893223 -0.86523902  0.          0.          0.\n",
      "  -0.99366825  0.          0.          0.        ]\n",
      " [-0.12055897  0.          0.         -2.65317526  0.          0.99991043\n",
      "   0.          0.          0.          0.        ]]\n",
      "[[ 0.37964138 -9.89625538  9.92675649  0.          0.          0.\n",
      "   0.          0.          0.          0.        ]\n",
      " [-0.5941026  27.79942442 -0.87834928  0.          0.          0.\n",
      "  -0.99425949  0.          0.          0.        ]\n",
      " [-0.10850308  0.          0.         -2.65450322  0.          0.99990956\n",
      "   0.          0.          0.          0.        ]]\n"
     ]
    }
   ],
   "source": [
    "for ind in range(2,4):\n",
    "    mom_arr = 0.9 * mom_arr + 0.1*opt_history[ind]\n",
    "    print(mom_arr)"
   ],
   "metadata": {
    "collapsed": false,
    "ExecuteTime": {
     "end_time": "2023-10-20T01:42:05.555325Z",
     "start_time": "2023-10-20T01:42:05.531429Z"
    }
   },
   "id": "9f9fef61512e45e"
  },
  {
   "cell_type": "code",
   "execution_count": 17,
   "outputs": [
    {
     "name": "stdout",
     "output_type": "stream",
     "text": [
      "[[[ 0.42213436 -9.88482832  9.91871652  0.          0.\n",
      "    0.          0.          0.          0.          0.        ]\n",
      "  [-0.6587641  27.77893223 -0.86523902  0.          0.\n",
      "    0.         -0.99366825  0.          0.          0.        ]\n",
      "  [-0.12034068  0.          0.         -2.65317526  0.\n",
      "    0.99991043  0.          0.          0.          0.        ]]\n",
      "\n",
      " [[ 0.37992092 -9.89625538  9.92675649  0.          0.\n",
      "    0.          0.          0.          0.          0.        ]\n",
      "  [-0.59288769 27.79942442 -0.87834928  0.          0.\n",
      "    0.         -0.99425949  0.          0.          0.        ]\n",
      "  [-0.10830661  0.          0.         -2.65450322  0.\n",
      "    0.99990956  0.          0.          0.          0.        ]]]\n"
     ]
    }
   ],
   "source": [
    "print(np.where(abs(mom_history) > 0.1, mom_history, 0.)[1:])"
   ],
   "metadata": {
    "collapsed": false,
    "ExecuteTime": {
     "end_time": "2023-10-20T01:44:15.772113Z",
     "start_time": "2023-10-20T01:44:15.759202Z"
    }
   },
   "id": "753c959e7e6e7710"
  },
  {
   "cell_type": "code",
   "execution_count": 18,
   "outputs": [
    {
     "data": {
      "text/plain": "array([[[ 0.        , -9.99927692,  9.99899463,  0.        ,\n          0.        ,  0.        ,  0.        ,  0.        ,\n          0.        ,  0.        ],\n        [ 0.        , 27.9812197 , -0.99643931,  0.        ,\n          0.        ,  0.        , -0.99953274,  0.        ,\n          0.        ,  0.        ],\n        [ 0.        ,  0.        ,  0.        , -2.66654099,\n          0.        ,  0.99990241,  0.        ,  0.        ,\n          0.        ,  0.        ]],\n\n       [[ 0.        , -9.99909897,  9.9991162 ,  0.        ,\n          0.        ,  0.        ,  0.        ,  0.        ,\n          0.        ,  0.        ],\n        [ 0.        , 27.9838541 , -0.99634161,  0.        ,\n          0.        ,  0.        , -0.99958066,  0.        ,\n          0.        ,  0.        ],\n        [ 0.        ,  0.        ,  0.        , -2.66645487,\n          0.        ,  0.9999017 ,  0.        ,  0.        ,\n          0.        ,  0.        ]]])"
     },
     "execution_count": 18,
     "metadata": {},
     "output_type": "execute_result"
    }
   ],
   "source": [
    "opt_history[-2:]"
   ],
   "metadata": {
    "collapsed": false,
    "ExecuteTime": {
     "end_time": "2023-10-20T01:46:10.298970Z",
     "start_time": "2023-10-20T01:46:10.295832Z"
    }
   },
   "id": "a2dcfe2080a3c593"
  }
 ],
 "metadata": {
  "kernelspec": {
   "display_name": "Python 3",
   "language": "python",
   "name": "python3"
  },
  "language_info": {
   "codemirror_mode": {
    "name": "ipython",
    "version": 2
   },
   "file_extension": ".py",
   "mimetype": "text/x-python",
   "name": "python",
   "nbconvert_exporter": "python",
   "pygments_lexer": "ipython2",
   "version": "2.7.6"
  }
 },
 "nbformat": 4,
 "nbformat_minor": 5
}
