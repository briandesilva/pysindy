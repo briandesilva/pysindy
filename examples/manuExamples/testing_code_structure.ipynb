{
 "cells": [
  {
   "cell_type": "code",
   "execution_count": 2,
   "id": "initial_id",
   "metadata": {
    "collapsed": true,
    "ExecuteTime": {
     "end_time": "2023-10-13T18:38:34.956304Z",
     "start_time": "2023-10-13T18:38:33.452647Z"
    }
   },
   "outputs": [
    {
     "name": "stdout",
     "output_type": "stream",
     "text": [
      "....importing local pysindy copy....\n"
     ]
    }
   ],
   "source": [
    "import pysindy"
   ]
  },
  {
   "cell_type": "code",
   "execution_count": 7,
   "outputs": [],
   "source": [
    "    # import numpy as np\n",
    "    # from scipy.integrate import odeint\n",
    "    # from pysindy import SINDy\n",
    "    # from pysindy.optimizers import STLSQ\n",
    "    # lorenz = lambda z,t : [10*(z[1] - z[0]),\n",
    "    #                         z[0]*(28 - z[2]) - z[1],\n",
    "    #                         z[0]*z[1] - 8/3*z[2]]\n",
    "    # t = np.arange(0,2,.002)\n",
    "    # x = odeint(lorenz, [-8,8,27], t)\n",
    "    # opt = STLSQ(threshold=0.1, alpha=.5)\n",
    "    # model = SINDy(optimizer=opt)\n",
    "    # model.fit(x, t=t[1]-t[0])\n",
    "    # model.print()"
   ],
   "metadata": {
    "collapsed": false,
    "ExecuteTime": {
     "end_time": "2023-10-20T01:27:45.906118Z",
     "start_time": "2023-10-20T01:27:45.904726Z"
    }
   },
   "id": "e7b4166dccf84db6"
  },
  {
   "cell_type": "code",
   "execution_count": 159,
   "outputs": [
    {
     "name": "stdout",
     "output_type": "stream",
     "text": [
      "STLSQ optimizer....\n",
      "(x0)' = -10.018 x0 + 10.030 x1\n",
      "(x1)' = 28.072 x0 + -1.136 x1 + -0.996 x0 x2\n",
      "(x2)' = 3.533 1 + 0.887 x0 + -0.479 x1 + -2.903 x2 + 0.998 x0 x1\n",
      " adam-STLSQ optimizer....\n",
      "(x0)' = -10.018 x0 + 10.030 x1\n",
      "(x1)' = 28.072 x0 + -1.136 x1 + -0.996 x0 x2\n",
      "(x2)' = 0.962 x0 + -2.817 x2 + 0.961 x0 x1\n"
     ]
    }
   ],
   "source": [
    "import sys\n",
    "sys.path.insert(0,\"/Users/manujayadharan/git_repos/pysindy\")\n",
    "\n",
    "\n",
    "\n",
    "import pysindy\n",
    "import numpy as np\n",
    "from scipy.integrate import odeint\n",
    "from pysindy import SINDy\n",
    "from pysindy.optimizers import STLSQ\n",
    "from sklearn.metrics import mean_squared_error\n",
    "lorenz = lambda z,t : [10*(z[1] - z[0]),\n",
    "                        z[0]*(28 - z[2]) - z[1],\n",
    "                        z[0]*z[1] - 8/3*z[2]]\n",
    "t = np.arange(0,2,.002)\n",
    "x = odeint(lorenz, [-8,8,27], t)\n",
    "noise = 1\n",
    "threshold = 0.2\n",
    "\n",
    "rmse = mean_squared_error(x, np.zeros(x.shape), squared=False)\n",
    "x = x + np.random.normal(0, noise*rmse / 100.0, x.shape)\n",
    "opt = STLSQ(threshold=threshold, alpha=.5)\n",
    "model = SINDy(optimizer=opt)\n",
    "model.fit(x, t=t[1]-t[0])\n",
    "print(\"STLSQ optimizer....\")\n",
    "model.print()\n",
    "\n",
    "\n",
    "import pysindy as ps\n",
    "opt_adam = ps.optimizers.adam_STLSQ(threshold=threshold, alpha=.5, mom_init_iter=1, mom_memory=0.1, use_mom=True, mom_inplace=True,)\n",
    "model_2 = SINDy(opt_adam)\n",
    "model_2.fit(x, t=t[1]-t[0])\n",
    "print(\" adam-STLSQ optimizer....\")\n",
    "\n",
    "\n",
    "\n",
    "model_2.print()"
   ],
   "metadata": {
    "collapsed": false,
    "ExecuteTime": {
     "end_time": "2023-10-20T03:09:29.896524Z",
     "start_time": "2023-10-20T03:09:29.866994Z"
    }
   },
   "id": "1706bddac860fa30"
  },
  {
   "cell_type": "code",
   "execution_count": 127,
   "outputs": [],
   "source": [
    "mom_history = np.array(opt_adam.mom_history)\n",
    "opt_history_adam  = np.array(opt_adam.history_)\n",
    "opt_history_orig = np.array(opt.history_)"
   ],
   "metadata": {
    "collapsed": false,
    "ExecuteTime": {
     "end_time": "2023-10-20T03:08:37.958514Z",
     "start_time": "2023-10-20T03:08:37.952648Z"
    }
   },
   "id": "43665c0da4853799"
  },
  {
   "cell_type": "code",
   "execution_count": 14,
   "outputs": [
    {
     "data": {
      "text/plain": "array([[ 0.        , -0.08910723,  0.06154257,  0.        ,  0.        ,\n         0.        ,  0.        ,  0.        ,  0.        ,  0.        ],\n       [ 1.0896035 ,  0.16332667,  0.        ,  0.        ,  0.        ,\n         0.        ,  0.        ,  0.        ,  0.        ,  0.        ],\n       [ 0.        ,  0.        ,  0.        , -0.00351503,  0.        ,\n         0.        ,  0.        ,  0.        ,  0.        ,  0.        ]])"
     },
     "execution_count": 14,
     "metadata": {},
     "output_type": "execute_result"
    }
   ],
   "source": [
    "opt_history_orig[1] - opt_history[1]"
   ],
   "metadata": {
    "collapsed": false,
    "ExecuteTime": {
     "end_time": "2023-10-20T02:28:27.234175Z",
     "start_time": "2023-10-20T02:28:27.226199Z"
    }
   },
   "id": "19a5fd12fde161d2"
  },
  {
   "cell_type": "code",
   "execution_count": 12,
   "outputs": [
    {
     "data": {
      "text/plain": "array([[-9.64895569e-03, -1.00046478e+01,  1.00038374e+01,\n         7.65369398e-04, -3.15852085e-05, -2.93120448e-05,\n         1.73525249e-04, -4.87091503e-05, -1.05165499e-04,\n        -1.60698340e-05],\n       [ 2.26880766e-02,  2.79944495e+01, -9.93575835e-01,\n        -3.40276264e-03,  3.26828868e-06,  1.06618345e-03,\n        -1.00014295e+00, -6.94384821e-04, -1.22218320e-04,\n         1.35248892e-04],\n       [-8.19281886e-02, -7.79668615e-03,  1.14104022e-02,\n        -2.65831213e+00,  6.78705151e-04,  1.00008079e+00,\n         2.77464075e-04, -3.19445037e-04, -5.14789205e-04,\n        -2.08940175e-04]])"
     },
     "execution_count": 12,
     "metadata": {},
     "output_type": "execute_result"
    }
   ],
   "source": [
    "opt_history[0]"
   ],
   "metadata": {
    "collapsed": false,
    "ExecuteTime": {
     "end_time": "2023-10-20T02:28:04.839067Z",
     "start_time": "2023-10-20T02:28:04.833942Z"
    }
   },
   "id": "c56de708a37deace"
  },
  {
   "cell_type": "code",
   "execution_count": 5,
   "outputs": [
    {
     "data": {
      "text/plain": "array([[[ 0.        , -9.78300458,  9.84825416,  0.        ,\n          0.        ,  0.        ,  0.        ,  0.        ,\n          0.        ,  0.        ],\n        [-1.0896035 , 27.59312918,  0.        ,  0.        ,\n          0.        ,  0.        ,  0.        ,  0.        ,\n          0.        ,  0.        ],\n        [ 0.        ,  0.        ,  0.        , -2.64817514,\n          0.        ,  0.        ,  0.        ,  0.        ,\n          0.        ,  0.        ]],\n\n       [[ 0.        , -9.99861773,  9.99871428,  0.        ,\n          0.        ,  0.        ,  0.        ,  0.        ,\n          0.        ,  0.        ],\n        [40.35281685, -6.44990851,  0.        ,  0.        ,\n          0.        ,  0.        ,  0.        ,  0.        ,\n          0.        ,  0.        ],\n        [ 0.        ,  0.        ,  0.        ,  0.        ,\n          0.        ,  0.        ,  0.        ,  0.        ,\n          0.        ,  0.        ]],\n\n       [[ 0.        , -9.99861773,  9.99871428,  0.        ,\n          0.        ,  0.        ,  0.        ,  0.        ,\n          0.        ,  0.        ],\n        [40.35281685, -6.44990851,  0.        ,  0.        ,\n          0.        ,  0.        ,  0.        ,  0.        ,\n          0.        ,  0.        ],\n        [ 0.        ,  0.        ,  0.        ,  0.        ,\n          0.        ,  0.        ,  0.        ,  0.        ,\n          0.        ,  0.        ]]])"
     },
     "execution_count": 5,
     "metadata": {},
     "output_type": "execute_result"
    }
   ],
   "source": [
    "mom_history"
   ],
   "metadata": {
    "collapsed": false,
    "ExecuteTime": {
     "end_time": "2023-10-20T02:19:09.632381Z",
     "start_time": "2023-10-20T02:19:09.624275Z"
    }
   },
   "id": "a322c0fc92a86c35"
  },
  {
   "cell_type": "code",
   "execution_count": 14,
   "outputs": [],
   "source": [
    "mom_arr = opt_history[1]"
   ],
   "metadata": {
    "collapsed": false,
    "ExecuteTime": {
     "end_time": "2023-10-20T01:41:11.667790Z",
     "start_time": "2023-10-20T01:41:11.658454Z"
    }
   },
   "id": "d79ddccf9ff6bc66"
  },
  {
   "cell_type": "code",
   "execution_count": 15,
   "outputs": [
    {
     "name": "stdout",
     "output_type": "stream",
     "text": [
      "[[ 0.42182376 -9.88482832  9.91871652  0.          0.          0.\n",
      "   0.          0.          0.          0.        ]\n",
      " [-0.66011401 27.77893223 -0.86523902  0.          0.          0.\n",
      "  -0.99366825  0.          0.          0.        ]\n",
      " [-0.12055897  0.          0.         -2.65317526  0.          0.99991043\n",
      "   0.          0.          0.          0.        ]]\n",
      "[[ 0.37964138 -9.89625538  9.92675649  0.          0.          0.\n",
      "   0.          0.          0.          0.        ]\n",
      " [-0.5941026  27.79942442 -0.87834928  0.          0.          0.\n",
      "  -0.99425949  0.          0.          0.        ]\n",
      " [-0.10850308  0.          0.         -2.65450322  0.          0.99990956\n",
      "   0.          0.          0.          0.        ]]\n"
     ]
    }
   ],
   "source": [
    "for ind in range(2,4):\n",
    "    mom_arr = 0.9 * mom_arr + 0.1*opt_history[ind]\n",
    "    print(mom_arr)"
   ],
   "metadata": {
    "collapsed": false,
    "ExecuteTime": {
     "end_time": "2023-10-20T01:42:05.555325Z",
     "start_time": "2023-10-20T01:42:05.531429Z"
    }
   },
   "id": "9f9fef61512e45e"
  },
  {
   "cell_type": "code",
   "execution_count": 17,
   "outputs": [
    {
     "name": "stdout",
     "output_type": "stream",
     "text": [
      "[[[ 0.42213436 -9.88482832  9.91871652  0.          0.\n",
      "    0.          0.          0.          0.          0.        ]\n",
      "  [-0.6587641  27.77893223 -0.86523902  0.          0.\n",
      "    0.         -0.99366825  0.          0.          0.        ]\n",
      "  [-0.12034068  0.          0.         -2.65317526  0.\n",
      "    0.99991043  0.          0.          0.          0.        ]]\n",
      "\n",
      " [[ 0.37992092 -9.89625538  9.92675649  0.          0.\n",
      "    0.          0.          0.          0.          0.        ]\n",
      "  [-0.59288769 27.79942442 -0.87834928  0.          0.\n",
      "    0.         -0.99425949  0.          0.          0.        ]\n",
      "  [-0.10830661  0.          0.         -2.65450322  0.\n",
      "    0.99990956  0.          0.          0.          0.        ]]]\n"
     ]
    }
   ],
   "source": [
    "print(np.where(abs(mom_history) > 0.1, mom_history, 0.)[1:])"
   ],
   "metadata": {
    "collapsed": false,
    "ExecuteTime": {
     "end_time": "2023-10-20T01:44:15.772113Z",
     "start_time": "2023-10-20T01:44:15.759202Z"
    }
   },
   "id": "753c959e7e6e7710"
  },
  {
   "cell_type": "code",
   "execution_count": 18,
   "outputs": [
    {
     "data": {
      "text/plain": "array([[[ 0.        , -9.99927692,  9.99899463,  0.        ,\n          0.        ,  0.        ,  0.        ,  0.        ,\n          0.        ,  0.        ],\n        [ 0.        , 27.9812197 , -0.99643931,  0.        ,\n          0.        ,  0.        , -0.99953274,  0.        ,\n          0.        ,  0.        ],\n        [ 0.        ,  0.        ,  0.        , -2.66654099,\n          0.        ,  0.99990241,  0.        ,  0.        ,\n          0.        ,  0.        ]],\n\n       [[ 0.        , -9.99909897,  9.9991162 ,  0.        ,\n          0.        ,  0.        ,  0.        ,  0.        ,\n          0.        ,  0.        ],\n        [ 0.        , 27.9838541 , -0.99634161,  0.        ,\n          0.        ,  0.        , -0.99958066,  0.        ,\n          0.        ,  0.        ],\n        [ 0.        ,  0.        ,  0.        , -2.66645487,\n          0.        ,  0.9999017 ,  0.        ,  0.        ,\n          0.        ,  0.        ]]])"
     },
     "execution_count": 18,
     "metadata": {},
     "output_type": "execute_result"
    }
   ],
   "source": [
    "opt_history[-2:]"
   ],
   "metadata": {
    "collapsed": false,
    "ExecuteTime": {
     "end_time": "2023-10-20T01:46:10.298970Z",
     "start_time": "2023-10-20T01:46:10.295832Z"
    }
   },
   "id": "a2dcfe2080a3c593"
  }
 ],
 "metadata": {
  "kernelspec": {
   "display_name": "Python 3",
   "language": "python",
   "name": "python3"
  },
  "language_info": {
   "codemirror_mode": {
    "name": "ipython",
    "version": 2
   },
   "file_extension": ".py",
   "mimetype": "text/x-python",
   "name": "python",
   "nbconvert_exporter": "python",
   "pygments_lexer": "ipython2",
   "version": "2.7.6"
  }
 },
 "nbformat": 4,
 "nbformat_minor": 5
}
